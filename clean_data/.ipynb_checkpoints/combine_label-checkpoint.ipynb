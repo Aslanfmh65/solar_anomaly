{
 "cells": [
  {
   "cell_type": "code",
   "execution_count": 78,
   "metadata": {},
   "outputs": [],
   "source": [
    "import pandas as pd\n",
    "import numpy as np\n",
    "import matplotlib.pyplot as plt"
   ]
  },
  {
   "cell_type": "code",
   "execution_count": 62,
   "metadata": {},
   "outputs": [],
   "source": [
    "file = 'other'\n",
    "data = pd.read_csv(file+'_data_clean.csv')\n",
    "label = pd.read_csv(file+'_label.csv')"
   ]
  },
  {
   "cell_type": "code",
   "execution_count": 63,
   "metadata": {},
   "outputs": [],
   "source": [
    "cond_dict = {}\n",
    "for i in range(len(label)):\n",
    "    m_d_y = label.loc[i]['Date'].split('/')\n",
    "    month = m_d_y[0]\n",
    "    day = m_d_y[1]\n",
    "    year = '20'+m_d_y[2]\n",
    "    \n",
    "    if len(month) == 1:\n",
    "        month = '0' + month\n",
    "    if len(day) == 1:\n",
    "        day = '0' + day\n",
    "        \n",
    "    y_m_d = year + '-' + month + '-' + day\n",
    "    \n",
    "    if y_m_d not in cond_dict:\n",
    "        cond_dict[y_m_d] = label.loc[i]['Condition']     "
   ]
  },
  {
   "cell_type": "code",
   "execution_count": 64,
   "metadata": {},
   "outputs": [],
   "source": [
    "n = len(data)\n",
    "condition = {1:'normal',2:'partial_shaded',3:'object_cover',4:'low_power',5:'production_issue',7:'unknown_issue'}\n",
    "model_agreement = {1:'strong',2:'moderate',3:'moderate',4:'low',5:'low',6:'low',7:'low'}\n",
    "power_level = {1:'high',2:'high',3:'high',4:'low',5:'low',6:'low',7:'low'}\n",
    "\n",
    "cond_col = []\n",
    "model_col = []\n",
    "power_col = []\n",
    "\n",
    "for i in range(n):\n",
    "    day = data.loc[i]['date']\n",
    "    if day in cond_dict:\n",
    "        cond = cond_dict[day]\n",
    "        \n",
    "        if cond == 6:\n",
    "            cond = 5\n",
    "        \n",
    "        cond_col.append(condition[cond])\n",
    "        model_col.append(model_agreement[cond])\n",
    "        power_col.append(power_level[cond])\n",
    "    else:\n",
    "        cond_col.append('empty')\n",
    "        model_col.append('empty')\n",
    "        power_col.append('empty')"
   ]
  },
  {
   "cell_type": "code",
   "execution_count": 65,
   "metadata": {},
   "outputs": [],
   "source": [
    "data['power_level'] = power_col\n",
    "data['model_agree'] = model_col\n",
    "data['label'] = cond_col"
   ]
  },
  {
   "cell_type": "code",
   "execution_count": 66,
   "metadata": {},
   "outputs": [
    {
     "data": {
      "text/html": [
       "<div>\n",
       "<style scoped>\n",
       "    .dataframe tbody tr th:only-of-type {\n",
       "        vertical-align: middle;\n",
       "    }\n",
       "\n",
       "    .dataframe tbody tr th {\n",
       "        vertical-align: top;\n",
       "    }\n",
       "\n",
       "    .dataframe thead th {\n",
       "        text-align: right;\n",
       "    }\n",
       "</style>\n",
       "<table border=\"1\" class=\"dataframe\">\n",
       "  <thead>\n",
       "    <tr style=\"text-align: right;\">\n",
       "      <th></th>\n",
       "      <th>28563599</th>\n",
       "      <th>28563605</th>\n",
       "      <th>28563616</th>\n",
       "      <th>28563617</th>\n",
       "      <th>28563620</th>\n",
       "      <th>date</th>\n",
       "      <th>epoch_time</th>\n",
       "      <th>time</th>\n",
       "      <th>weather</th>\n",
       "      <th>temperature</th>\n",
       "      <th>power_level</th>\n",
       "      <th>model_agree</th>\n",
       "      <th>label</th>\n",
       "    </tr>\n",
       "  </thead>\n",
       "  <tbody>\n",
       "  </tbody>\n",
       "</table>\n",
       "</div>"
      ],
      "text/plain": [
       "Empty DataFrame\n",
       "Columns: [28563599, 28563605, 28563616, 28563617, 28563620, date, epoch_time, time, weather, temperature, power_level, model_agree, label]\n",
       "Index: []"
      ]
     },
     "execution_count": 66,
     "metadata": {},
     "output_type": "execute_result"
    }
   ],
   "source": [
    "data[data['label']=='empty']"
   ]
  },
  {
   "cell_type": "code",
   "execution_count": 67,
   "metadata": {},
   "outputs": [],
   "source": [
    "export_csv = data.to_csv (file+'_data_clean.csv', index = False, header=True) "
   ]
  }
 ],
 "metadata": {
  "kernelspec": {
   "display_name": "Python 3",
   "language": "python",
   "name": "python3"
  },
  "language_info": {
   "codemirror_mode": {
    "name": "ipython",
    "version": 3
   },
   "file_extension": ".py",
   "mimetype": "text/x-python",
   "name": "python",
   "nbconvert_exporter": "python",
   "pygments_lexer": "ipython3",
   "version": "3.7.4"
  }
 },
 "nbformat": 4,
 "nbformat_minor": 2
}
