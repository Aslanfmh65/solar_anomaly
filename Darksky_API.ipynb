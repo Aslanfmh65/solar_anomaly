{
 "cells": [
  {
   "cell_type": "code",
   "execution_count": 205,
   "metadata": {},
   "outputs": [],
   "source": [
    "## Instruction: \n",
    "## https://darksky.net/dev/docs\n",
    "## https://darksky.net/dev/docs/libraries"
   ]
  },
  {
   "cell_type": "code",
   "execution_count": 1,
   "metadata": {},
   "outputs": [],
   "source": [
    "import json\n",
    "import requests\n",
    "import numpy as np\n",
    "import pandas as pd\n",
    "import time, calendar\n",
    "from datetime import datetime, timedelta"
   ]
  },
  {
   "cell_type": "code",
   "execution_count": 7,
   "metadata": {},
   "outputs": [],
   "source": [
    "# generate the list of days defined between start and end day\n",
    "def calendar_test(day, count, date_list = None):\n",
    "    if date_list is None:\n",
    "        date_list = []\n",
    "    if count == 0:\n",
    "        return date_list\n",
    "    count -= 1\n",
    "    day = day + timedelta(days=1)\n",
    "    date = day.isoformat().split('T')\n",
    "    date_list.append(\" \".join(date))\n",
    "    \n",
    "    calendar_test(day,count,date_list)\n",
    "    \n",
    "    return date_list\n",
    "\n",
    "# convert utc time to epoch time\n",
    "def convert_utc_to_epoch(timestamp_string):\n",
    "    '''Use this function to convert utc to epoch'''\n",
    "    timestamp = datetime.strptime(timestamp_string, '%Y-%m-%d %H:%M:%S')\n",
    "    epoch = int(calendar.timegm(timestamp.utctimetuple()))\n",
    "\n",
    "    return epoch\n",
    "\n",
    "# convert epoch time to YYYYMMDDHHMM format (year-month-day-hour-minute)\n",
    "def date_time_convert(item):\n",
    "    \n",
    "    date_time = time.strftime('%Y-%m-%d %H:%M:%S', time.localtime(item)).split(' ')\n",
    "    date = date_time[0].split('-')\n",
    "    time_ = date_time[1].split(':')\n",
    "    date = 10000*int(date[0])+100*int(date[1])+1*int(date[2])\n",
    "    time_ = 100*int(time_[0])+1*int(time_[1])\n",
    "    date_time = date*10000+time_\n",
    "    \n",
    "    return date_time\n",
    "\n",
    "\n",
    "def darksky_api_call(start_day,end_day):\n",
    "    start_day = datetime.strptime(start_day, '%Y-%m-%d')\n",
    "    end_day = datetime.strptime(end_day, '%Y-%m-%d')\n",
    "    total_day = abs((end_day - start_day).days)\n",
    "\n",
    "    day_list = calendar_test(start_day,total_day)\n",
    "\n",
    "    # darksky website\n",
    "    darksky = \"https://api.darksky.net/forecast/\"\n",
    "    # API key\n",
    "    key = \"69fcefff98d6c6a0f9b0ebfec1e6f2cc\"\n",
    "    # Position: Amherst\n",
    "    lon_lat = \"/42.3601, -71.0589,\"\n",
    "    # Offset\n",
    "    offset = \"?exclude=minutely,flags\"\n",
    "\n",
    "    # define parameter you want to collect\n",
    "    info_list = ['time','icon','temperature','humidity','pressure','cloudCover','windSpeed','uvIndex','visibility']\n",
    "    info = {para:[] for para in info_list}\n",
    "\n",
    "    # API calling\n",
    "    for day in day_list:\n",
    "    \n",
    "        epoch_time = convert_utc_to_epoch(day)    \n",
    "        link = darksky + key + lon_lat + str(epoch_time) + offset\n",
    "\n",
    "        res = requests.get(link)\n",
    "        data = res.json()\n",
    "    \n",
    "        if 'hourly' not in data:\n",
    "            continue\n",
    "        elif 'data' not in data['hourly']:\n",
    "            continue\n",
    "    \n",
    "        for item in data['hourly']['data']:\n",
    "            epoch = item['time']\n",
    "            date_time = date_time_convert(item['time'])\n",
    "            # parameters collected\n",
    "            for para in info_list:\n",
    "                if para not in item:\n",
    "                    info[para].append(float('nan'))\n",
    "                else:\n",
    "                    info[para].append(item[para])\n",
    "        \n",
    "    file = pd.DataFrame(dict([(k,pd.Series(v)) for k,v in info.items() ]))\n",
    "    \n",
    "    return file"
   ]
  },
  {
   "cell_type": "code",
   "execution_count": 10,
   "metadata": {},
   "outputs": [],
   "source": [
    "# define start and end day\n",
    "start_day = '2019-1-28'\n",
    "end_day = '2019-1-29'\n",
    "\n",
    "file = darksky_api_call(start_day,end_day)\n",
    "\n",
    "# comment out if you want to save the data\n",
    "# export_csv = file.to_csv (\"file_name.csv\", index = True, header=True)"
   ]
  },
  {
   "cell_type": "code",
   "execution_count": 12,
   "metadata": {},
   "outputs": [],
   "source": [
    "# run this code if you want to convert epoch time to YYYYMMDDHHMM format (year-month-day-hour-minute)\n",
    "date = []\n",
    "for i in file['time']:\n",
    "    date.append(date_time_convert(i))\n",
    "    \n",
    "file['date_time'] = date\n",
    "\n",
    "# comment out if you want to save the data\n",
    "# export_csv = file.to_csv (\"file_name.csv\", index = True, header=True)"
   ]
  },
  {
   "cell_type": "code",
   "execution_count": 14,
   "metadata": {},
   "outputs": [],
   "source": [
    "file_list = ['darksky_data_2017_9_11_2019_1_27.csv','test.csv']\n",
    "df = pd.DataFrame()\n",
    "for i in file_list:\n",
    "    df_file = pd.read_csv(i, index_col=0)\n",
    "    df = df.append(df_file)\n",
    "# df = df.set_index('date_time')\n",
    "# export_csv = df.to_csv (\"new_test.csv\", index = True, header=True)"
   ]
  },
  {
   "cell_type": "code",
   "execution_count": 19,
   "metadata": {},
   "outputs": [],
   "source": [
    "df = pd.read_csv('test.csv', index_col=0)\n",
    "df = df.set_index('date_time')\n",
    "\n",
    "file = pd.read_csv('darksky_data_2017_9_11_2019_1_27.csv', index_col=0)\n",
    "df_new = pd.DataFrame()\n",
    "df_new = df_new.append(file)\n",
    "df_new = df_new.append(df)"
   ]
  },
  {
   "cell_type": "code",
   "execution_count": 23,
   "metadata": {},
   "outputs": [],
   "source": [
    "export_csv = df_new.to_csv (\"darksky_weather_data.csv\", index = True, header=True)"
   ]
  },
  {
   "cell_type": "code",
   "execution_count": 32,
   "metadata": {},
   "outputs": [],
   "source": [
    "weather_data = {}\n",
    "weather_file = pd.read_csv('darksky_weather_data.csv', index_col=0)\n",
    "weather_file['index'] = [i for i in range(len(weather_file))]\n",
    "weather_file = weather_file.set_index('index')\n",
    "\n",
    "for i in range(len(weather_file)):\n",
    "    weather_data[str(weather_file.loc[i]['time'])[:8]]=weather_file.loc[i]['icon']\n",
    "\n",
    "# days = []\n",
    "# weathers = []\n",
    "# for day, weather in weather_data.items():\n",
    "#     days.append(day)\n",
    "#     weathers.append(weather)\n",
    "    \n",
    "# for i, weather in enumerate(weathers):\n",
    "#     if weather == 'clear-night':\n",
    "#         weathers[i] = 'sunny'\n",
    "#     elif weather == 'partly-cloudy-night':\n",
    "#         weathers[i] = 'cloudy'"
   ]
  },
  {
   "cell_type": "code",
   "execution_count": 37,
   "metadata": {},
   "outputs": [],
   "source": [
    "weather_file['date_time'] = [date_time_convert(item) for item in weather_file['time']]"
   ]
  },
  {
   "cell_type": "code",
   "execution_count": 39,
   "metadata": {},
   "outputs": [],
   "source": [
    "for i in range(len(weather_file)):\n",
    "    weather_data[str(weather_file.loc[i]['date_time'])[:8]]=weather_file.loc[i]['icon']"
   ]
  },
  {
   "cell_type": "code",
   "execution_count": 41,
   "metadata": {},
   "outputs": [],
   "source": [
    "days = []\n",
    "weathers = []\n",
    "for day, weather in weather_data.items():\n",
    "    days.append(day)\n",
    "    weathers.append(weather)\n",
    "    \n",
    "for i, weather in enumerate(weathers):\n",
    "    if weather == 'clear-night':\n",
    "        weathers[i] = 'sunny'\n",
    "    elif weather == 'partly-cloudy-night':\n",
    "        weathers[i] = 'cloudy'"
   ]
  },
  {
   "cell_type": "code",
   "execution_count": 48,
   "metadata": {},
   "outputs": [],
   "source": [
    "export_csv = weather_file.to_csv (\"darksky_weather_data.csv\", index = True, header=True)"
   ]
  },
  {
   "cell_type": "code",
   "execution_count": null,
   "metadata": {},
   "outputs": [],
   "source": []
  }
 ],
 "metadata": {
  "kernelspec": {
   "display_name": "Python 3",
   "language": "python",
   "name": "python3"
  },
  "language_info": {
   "codemirror_mode": {
    "name": "ipython",
    "version": 3
   },
   "file_extension": ".py",
   "mimetype": "text/x-python",
   "name": "python",
   "nbconvert_exporter": "python",
   "pygments_lexer": "ipython3",
   "version": "3.7.4"
  }
 },
 "nbformat": 4,
 "nbformat_minor": 2
}
