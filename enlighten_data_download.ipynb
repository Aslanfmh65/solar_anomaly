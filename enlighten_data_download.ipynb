{
 "cells": [
  {
   "cell_type": "markdown",
   "metadata": {},
   "source": [
    "## Load module and libraries"
   ]
  },
  {
   "cell_type": "code",
   "execution_count": 1,
   "metadata": {},
   "outputs": [],
   "source": [
    "from selenium import webdriver\n",
    "from datetime import datetime, timedelta\n",
    "from random import randrange\n",
    "import matplotlib.pyplot as plt\n",
    "import numpy as np\n",
    "import pandas as pd\n",
    "import requests\n",
    "import calendar\n",
    "import json\n",
    "import time\n",
    "import os"
   ]
  },
  {
   "cell_type": "markdown",
   "metadata": {},
   "source": [
    "## Download login info as cookie (run this only when you need cookie)"
   ]
  },
  {
   "cell_type": "code",
   "execution_count": 117,
   "metadata": {},
   "outputs": [],
   "source": [
    "# ## Open the virtual browser \n",
    "# driver = webdriver.Firefox()\n",
    "\n",
    "# ## Open the website \n",
    "# website = 'https://enlighten.enphaseenergy.com/systems/1302574/inverters/28563594/time_series_x?&date=2019-05-04&stat=POWR%2CDCV%2CDCA%2CACV%2CACHZ%2CTMPI'\n",
    "# driver.get(website)\n",
    "\n",
    "# ## Username and password\n",
    "# user=\"mfeng@umass.edu\"\n",
    "# password=\"UmassCS!\"\n",
    "\n",
    "# ## Login the website\n",
    "# driver.find_element_by_id('user_email').click()\n",
    "# driver.find_element_by_id(\"user_email\").send_keys(user)\n",
    "# driver.find_element_by_id('user_password').click()\n",
    "# driver.find_element_by_id(\"user_password\").send_keys(password)\n",
    "# driver.find_element_by_id('submit').click()\n",
    "\n",
    "# ## Store the login info in cookie\n",
    "# driver.get(website)\n",
    "# cookie_items = driver.get_cookies()\n",
    "\n",
    "# post = {}\n",
    "\n",
    "# for cookie_item in cookie_items:\n",
    "#     post[cookie_item['name']] = cookie_item['value']\n",
    "    \n",
    "# cookie_str = json.dumps(post)\n",
    "# with open('cookie.txt', 'w', encoding='utf-8') as f:\n",
    "#     f.write(cookie_str)\n",
    "# f.close"
   ]
  },
  {
   "cell_type": "markdown",
   "metadata": {},
   "source": [
    "## Download data for each panel"
   ]
  },
  {
   "cell_type": "code",
   "execution_count": 2,
   "metadata": {},
   "outputs": [],
   "source": [
    "# Use the stored cookie to login and keep session open\n",
    "with open('cookie.txt', 'r',encoding='utf-8') as f:\n",
    "    cookie = f.read()\n",
    "cookies = json.loads(cookie)\n",
    "\n",
    "## Align microinverter's serial number with inverter ID\n",
    "system_id = '1302574'\n",
    "\n",
    "## Inverter serial number and ID is aligned one by one \n",
    "inverter_sn = ['121721038143', '121721037801', '121721037691', '121721038936', '121721038148', \n",
    "             '121721037892', '121721037821', '121721037806', '121721038079', '121721038122', \n",
    "             '121721038133', '121721037662', '121721037689', '121721037871', '121721037817', \n",
    "             '121721038020', '121721038147', '121721038076', '121721038911', '121721037842', \n",
    "             '121721037788', '121721037686', '121721037867', '121721038108', '121721038125', \n",
    "             '121721037685', '121721038107', '121721038154', '121721038144', '121721037880', \n",
    "             '121721038037']\n",
    "\n",
    "inverter_id = [str(28563593+i) for i in range(len(inverter_sn))]\n",
    "inverter_sn_id = {k:v for k,v in zip(inverter_id,inverter_sn)}\n",
    "\n",
    "# print(\"Microinverter ID: serial number\")\n",
    "# print(inverter_sn_id)\n",
    "\n",
    "## Group panels based on their facing direction (west/east/lower)\n",
    "west_roof = ['121721038107', '121721037685', '121721038037', '121721038147', '121721037806', \n",
    "             '121721037892', '121721038143']\n",
    "east_roof = ['121721037871', '121721037662', '121721037801', '121721037691', '121721037880',\n",
    "             '121721038936', '121721038122', '121721038148', '121721038133']\n",
    "lower_roof = ['121721037686', '121721037788', '121721038076', '121721038079', '121721037867', \n",
    "              '121721038020', '121721037817', '121721038144', '121721038911', '121721037842']\n",
    "other_roof = ['121721038125','121721037689','121721037821','121721038154','121721038108']\n",
    "\n",
    "\n",
    "combine_roof = ['121721038107','121721037685','121721038037','121721037871','121721037662','121721038148',\n",
    "            '121721038076', '121721037817', '121721037867']\n",
    "\n",
    "west_roof_id = []\n",
    "east_roof_id = []\n",
    "lower_roof_id = []\n",
    "other_roof_id = []\n",
    "combine_roof_id = []\n",
    "\n",
    "for inverter in inverter_sn:\n",
    "    if inverter in west_roof:\n",
    "        west_roof_id.append(inverter_id[inverter_sn.index(inverter)])\n",
    "    elif inverter in east_roof:\n",
    "        east_roof_id.append(inverter_id[inverter_sn.index(inverter)])\n",
    "    elif inverter in lower_roof:\n",
    "        lower_roof_id.append(inverter_id[inverter_sn.index(inverter)])\n",
    "    elif inverter in other_roof:\n",
    "        other_roof_id.append(inverter_id[inverter_sn.index(inverter)])\n",
    "    \n",
    "# for inverter in inverter_sn:\n",
    "#     if inverter in combine_roof:\n",
    "#         combine_roof_id.append(inverter_id[inverter_sn.index(inverter)])\n",
    "\n",
    "## Formula: website = link_1 + system_id + link_2 + inverter_id + link_3 + date + link_4\n",
    "link_1 = 'https://enlighten.enphaseenergy.com/systems/'\n",
    "link_2 = '/inverters/'\n",
    "link_3 = '/time_series_x?&date='\n",
    "link_4 = '&stat=POWR%2CDCV%2CDCA%2CACV%2CACHZ%2CTMPI'"
   ]
  },
  {
   "cell_type": "code",
   "execution_count": 4,
   "metadata": {},
   "outputs": [],
   "source": [
    "def calendar_test(day, count, date_list = None):\n",
    "    if date_list is None:\n",
    "        date_list = []\n",
    "    if count == 0:\n",
    "        return date_list\n",
    "    count -= 1\n",
    "    day = day + timedelta(days=1)\n",
    "    date = day.isoformat().split('T')[0]\n",
    "    date_list.append(date)\n",
    "    \n",
    "    calendar_test(day,count,date_list)\n",
    "    \n",
    "    return date_list\n",
    "\n",
    "def download_data(start_day, end_day, roof_panel, save=False):\n",
    "    \n",
    "    start_day = datetime.strptime(start_day, '%Y-%m-%d')\n",
    "    end_day = datetime.strptime(end_day, '%Y-%m-%d')\n",
    "    total_day = abs((end_day - start_day).days)\n",
    "    day_list = calendar_test(start_day,total_day)\n",
    "    \n",
    "    for inverter_id in roof_panel:\n",
    "        print('Inverter ID: {}'.format(inverter_id))\n",
    "    \n",
    "        info = {'date_time':[],'epoch':[], 'power':[], 'power_unknown':[], 'DCV':[], \n",
    "                'DCA':[], 'ACV':[], 'ACHZ':[], 'TMPI':[]}\n",
    "        for day in day_list:\n",
    "            # website address where data is stored\n",
    "            website = link_1 + system_id + link_2 + inverter_id + link_3 + day + link_4\n",
    "            # access data in json format from the website\n",
    "            res = requests.get(url=website, cookies=cookies)\n",
    "            data = res.json()\n",
    "        \n",
    "            # extract time information \n",
    "            for ii in data['POWR']:\n",
    "                epoch = ii[0]\n",
    "                info['epoch'].append(epoch)\n",
    "                \n",
    "                date_time = time.struct_time(time.localtime(ii[0]))\n",
    "                date = 10000*date_time[0]+100*date_time[1]+1*date_time[2]\n",
    "                time_ = 100*date_time[3]+1*date_time[4]\n",
    "                date_time = date*10000+time_                \n",
    "            \n",
    "                info['date_time'].append(date_time)\n",
    "                info['power'].append(ii[1])\n",
    "                info['power_unknown'].append(ii[2])\n",
    "                        \n",
    "            for ii in data['DCV']:\n",
    "                info['DCV'].append(ii[1])\n",
    "            \n",
    "            for ii in data['DCA']:\n",
    "                info['DCA'].append(ii[1])\n",
    "            \n",
    "            for ii in data['ACV']:\n",
    "                info['ACV'].append(ii[1])\n",
    "            \n",
    "            for ii in data['ACHZ']:\n",
    "                info['ACHZ'].append(ii[1])\n",
    "            \n",
    "            for ii in data['TMPI']:\n",
    "                info['TMPI'].append(ii[1])\n",
    "            \n",
    "        # Save downloaded data for each panel\n",
    "        data = pd.DataFrame(dict([(k,pd.Series(v)) for k,v in info.items() ]))\n",
    "        if save is True: \n",
    "            export_csv = data.to_csv (str(inverter_id)+\".csv\", index = True, header=True)\n",
    "            \n",
    "    return data\n",
    "    \n",
    "def daily_data(start_day, end_day, roof_panel, save=False):\n",
    "    \n",
    "    start_day = datetime.strptime(start_day, '%Y-%m-%d')\n",
    "    end_day = datetime.strptime(end_day, '%Y-%m-%d')\n",
    "    total_day = abs((end_day - start_day).days)\n",
    "    day_list = calendar_test(start_day,total_day)\n",
    "    \n",
    "    for inverter_id in roof_panel:\n",
    "        print('Inverter ID: {}'.format(inverter_id))\n",
    "        \n",
    "        info = {day:[] for day in day_list}\n",
    "        \n",
    "        for day in day_list:\n",
    "            # website address where data is stored\n",
    "            website = link_1 + system_id + link_2 + inverter_id + link_3 + day + link_4\n",
    "            # access data in json format from the website\n",
    "            res = requests.get(url=website, cookies=cookies)\n",
    "            data = res.json()\n",
    "    \n",
    "            # extract time information \n",
    "            for ii in data['POWR']:\n",
    "                \n",
    "                info[day].append(ii[1])\n",
    "            \n",
    "        # Save downloaded data for each panel\n",
    "        data = pd.DataFrame(dict([(k,pd.Series(v)) for k,v in info.items() ]))\n",
    "\n",
    "        if save is True: \n",
    "            export_csv = data.to_csv (str(inverter_id)+\".csv\", index = True, header=True)\n",
    "            \n",
    "        return data"
   ]
  },
  {
   "cell_type": "code",
   "execution_count": 8,
   "metadata": {},
   "outputs": [
    {
     "name": "stdout",
     "output_type": "stream",
     "text": [
      "Inverter ID: 28563594\n",
      "Inverter ID: 28563595\n",
      "Inverter ID: 28563596\n",
      "Inverter ID: 28563597\n",
      "Inverter ID: 28563602\n",
      "Inverter ID: 28563603\n",
      "Inverter ID: 28563604\n",
      "Inverter ID: 28563606\n",
      "Inverter ID: 28563622\n"
     ]
    }
   ],
   "source": [
    "start_day = '2019-8-20'\n",
    "end_day = '2020-2-1'\n",
    "roof_panel = east_roof_id \n",
    "data = download_data(start_day, end_day,roof_panel, True)\n",
    "# data = daily_data(start_day, end_day,roof_panel, True)"
   ]
  },
  {
   "cell_type": "markdown",
   "metadata": {},
   "source": [
    "## Clean Data "
   ]
  },
  {
   "cell_type": "code",
   "execution_count": 9,
   "metadata": {},
   "outputs": [],
   "source": [
    "# Load files from current directory\n",
    "files = os.listdir(os.getcwd())\n",
    "files = [file for file in files if file[:-4] in roof_panel]"
   ]
  },
  {
   "cell_type": "code",
   "execution_count": 10,
   "metadata": {},
   "outputs": [],
   "source": [
    "def load_data(file):\n",
    "    \n",
    "    ## Load dataset \n",
    "    dataset = pd.read_csv(file, index_col=0)\n",
    "    dataset = dataset.set_index('date_time')\n",
    "    dataset = dataset.drop(['power_unknown', 'DCV', 'DCA', 'ACV', 'ACHZ', 'TMPI'], axis=1)\n",
    "    dataset = dataset.rename(columns = {'power': str(file[:-4])})\n",
    "    \n",
    "    return dataset"
   ]
  },
  {
   "cell_type": "code",
   "execution_count": 11,
   "metadata": {},
   "outputs": [],
   "source": [
    "dataset = [load_data(file) for file in files]"
   ]
  },
  {
   "cell_type": "code",
   "execution_count": 81,
   "metadata": {},
   "outputs": [
    {
     "data": {
      "text/plain": [
       "'28563603'"
      ]
     },
     "execution_count": 81,
     "metadata": {},
     "output_type": "execute_result"
    }
   ],
   "source": [
    "dataset[i].columns[1]"
   ]
  },
  {
   "cell_type": "code",
   "execution_count": 90,
   "metadata": {},
   "outputs": [],
   "source": [
    "# Merge power output for each panel based on timestamp\n",
    "data = dataset[0]\n",
    "for i in range(1, len(dataset)):\n",
    "    \n",
    "    # Join the power output of all panels by timestamp\n",
    "    data = data.join(dataset[i], lsuffix='_caller', rsuffix='_other')\n",
    "        \n",
    "    # Fill missing data by linear interpolation \n",
    "    data = data.interpolate(method ='linear', limit_direction ='both', limit = 2) \n",
    "\n",
    "# # Remove duplicated row   \n",
    "data = data.reset_index().drop_duplicates(subset='date_time',keep='first').set_index('date_time')\n",
    "# data = data.dropna()"
   ]
  },
  {
   "cell_type": "code",
   "execution_count": 27,
   "metadata": {},
   "outputs": [],
   "source": [
    "# # Save the cleaned data\n",
    "# export_csv = data.to_csv (\"test.csv\", index = True, header=True)"
   ]
  },
  {
   "cell_type": "code",
   "execution_count": 45,
   "metadata": {},
   "outputs": [],
   "source": [
    "## Count the missing value, don't run linear interpolation if you want to count the missing percent\n",
    "# import operator\n",
    "\n",
    "# miss_count = {}\n",
    "# for id_ in east_roof_id:\n",
    "#     miss_count[id_] = data[id_].isna().sum()/len(data[id_])\n",
    "# sorted_x = sorted(miss_count.items(), key=operator.itemgetter(1))\n",
    "\n",
    "# x = []\n",
    "# y = []\n",
    "# for id_,percent in sorted_x:\n",
    "#     x.append(east_roof[roof_panel.index(id_)])\n",
    "#     y.append(percent*100)\n",
    "    \n",
    "# fig = plt.figure(figsize=(15,7))\n",
    "# ax = fig.add_subplot(1,1,1)\n",
    "    \n",
    "# bar = plt.bar(x,y)\n",
    "\n",
    "# ax.set_title('East Roof Missing Data Percentage (2019/8/20-2020/2/15)',fontsize=16)\n",
    "# ax.set_xlabel('Serial Number',fontsize=14)\n",
    "# ax.set_ylabel('Percent(%)',fontsize=14)\n",
    "\n",
    "# def autolabel(rects):\n",
    "#     \"\"\"\n",
    "#     Attach a text label above each bar displaying its height\n",
    "#     \"\"\"\n",
    "#     for rect in rects:\n",
    "#         height = rect.get_height()\n",
    "#         ax.text(rect.get_x() + rect.get_width()/2., 1.01*height,int(height),\n",
    "#         ha='center', va='bottom')\n",
    "# autolabel(bar)\n",
    "\n",
    "# # plt.savefig('missing_data.jpg', format='jpg', dpi=500, bbox_inches='tight')\n",
    "\n",
    "# plt.show()"
   ]
  },
  {
   "cell_type": "code",
   "execution_count": null,
   "metadata": {},
   "outputs": [],
   "source": []
  }
 ],
 "metadata": {
  "kernelspec": {
   "display_name": "Python 3",
   "language": "python",
   "name": "python3"
  },
  "language_info": {
   "codemirror_mode": {
    "name": "ipython",
    "version": 3
   },
   "file_extension": ".py",
   "mimetype": "text/x-python",
   "name": "python",
   "nbconvert_exporter": "python",
   "pygments_lexer": "ipython3",
   "version": "3.7.4"
  }
 },
 "nbformat": 4,
 "nbformat_minor": 2
}
