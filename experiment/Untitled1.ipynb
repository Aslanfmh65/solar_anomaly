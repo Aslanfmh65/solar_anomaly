{
 "cells": [
  {
   "cell_type": "code",
   "execution_count": 24,
   "metadata": {},
   "outputs": [],
   "source": [
    "import numpy as np\n",
    "import pandas as pd\n",
    "import collections\n",
    "import matplotlib.pyplot as plt\n",
    "\n",
    "from sklearn.model_selection import KFold\n",
    "from sklearn.preprocessing import MinMaxScaler\n",
    "from sklearn.ensemble import RandomForestRegressor\n",
    "\n",
    "import warnings\n",
    "warnings.filterwarnings('ignore')"
   ]
  },
  {
   "cell_type": "code",
   "execution_count": 29,
   "metadata": {},
   "outputs": [],
   "source": [
    "# prepare the data for regression\n",
    "def create_dataset(data):\n",
    "    dataX, dataY = [],[]\n",
    "    for i in range(len(data)):\n",
    "        dataX.append(data[i][:-1])\n",
    "        dataY.append([data[i][-1]])\n",
    "        \n",
    "    return np.array(dataX), np.array(dataY)\n",
    "\n",
    "# Mean Absolute Percentage Error\n",
    "def mean_absolute_percentage_error(data_true, data_predict):\n",
    "    error = 0\n",
    "    count = 0\n",
    "    data_true_de = sum(data_true)/len(data_true)\n",
    "    \n",
    "    for i in range(len(data_true)):\n",
    "        error += np.abs((data_true[i]-data_predict[i])/data_true_de)\n",
    "\n",
    "    return((error/len(data_true))*100)\n",
    "\n",
    "def random_forest(X,Y):\n",
    "    \n",
    "    cvscores = []\n",
    "    # k-cross validation\n",
    "    k_fold = KFold(n_splits=3, shuffle=True, random_state=0)\n",
    "        \n",
    "    for train_index, test_index in k_fold.split(X, Y):\n",
    "        \n",
    "        X_train = X[train_index]\n",
    "        y_train = Y[train_index]\n",
    "        \n",
    "        X_test = X[test_index]\n",
    "        y_test = Y[test_index]        \n",
    "        \n",
    "        rf_model = RandomForestRegressor(n_estimators=10,max_depth=10, random_state=0).fit(X_train, y_train)\n",
    "        rf_prediction = rf_model.predict(X_test)\n",
    "        score = mean_absolute_percentage_error(y_test, rf_prediction)\n",
    "        cvscores.append(score)\n",
    "        \n",
    "    return np.mean(cvscores)\n",
    "\n",
    "def train_model(dataset):\n",
    "    \n",
    "    result = []\n",
    "    \n",
    "    for col in dataset.columns:\n",
    "            \n",
    "        # prepare data\n",
    "        X = dataset.loc[:, dataset.columns!=col].values\n",
    "        Y = dataset.loc[:, dataset.columns==col].values\n",
    "        \n",
    "        # normalize the data\n",
    "        scaler = MinMaxScaler(feature_range=(0,1))\n",
    "        X = np.array(scaler.fit_transform(X))\n",
    "        Y = np.array(scaler.fit_transform(Y))\n",
    "        \n",
    "        res = random_forest(X, Y)\n",
    "        result.append(res)\n",
    "        \n",
    "    return result"
   ]
  },
  {
   "cell_type": "code",
   "execution_count": 30,
   "metadata": {},
   "outputs": [
    {
     "data": {
      "text/plain": [
       "[6.75301205902971,\n",
       " 9.998440955253999,\n",
       " 7.646446445367009,\n",
       " 6.584643020507183,\n",
       " 6.0584711897121295,\n",
       " 6.981178936238133,\n",
       " 4.87299028012874,\n",
       " 5.978809765957696,\n",
       " 8.84871424754048,\n",
       " 7.6259806943727915]"
      ]
     },
     "execution_count": 30,
     "metadata": {},
     "output_type": "execute_result"
    }
   ],
   "source": [
    "# Load data\n",
    "lower_data = pd.read_csv('lower_data_clean.csv')\n",
    "\n",
    "# Only use the data from sunny day\n",
    "lower_data = lower_data[lower_data['weather']=='sunny']\n",
    "lower_data = lower_data.drop(['date_time','weather'],axis=1)\n",
    "\n",
    "# Train the model\n",
    "train_model(lower_data)"
   ]
  },
  {
   "cell_type": "code",
   "execution_count": null,
   "metadata": {},
   "outputs": [],
   "source": []
  }
 ],
 "metadata": {
  "kernelspec": {
   "display_name": "Python 3",
   "language": "python",
   "name": "python3"
  },
  "language_info": {
   "codemirror_mode": {
    "name": "ipython",
    "version": 3
   },
   "file_extension": ".py",
   "mimetype": "text/x-python",
   "name": "python",
   "nbconvert_exporter": "python",
   "pygments_lexer": "ipython3",
   "version": "3.7.4"
  }
 },
 "nbformat": 4,
 "nbformat_minor": 2
}
