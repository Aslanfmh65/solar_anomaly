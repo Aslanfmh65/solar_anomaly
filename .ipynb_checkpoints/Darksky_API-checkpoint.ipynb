{
 "cells": [
  {
   "cell_type": "code",
   "execution_count": 1,
   "metadata": {},
   "outputs": [],
   "source": [
    "## Instruction: \n",
    "## https://darksky.net/dev/docs\n",
    "## https://darksky.net/dev/docs/libraries"
   ]
  },
  {
   "cell_type": "code",
   "execution_count": 2,
   "metadata": {},
   "outputs": [],
   "source": [
    "import json\n",
    "import requests\n",
    "import numpy as np\n",
    "import pandas as pd\n",
    "import time, calendar\n",
    "from datetime import datetime, timedelta"
   ]
  },
  {
   "cell_type": "code",
   "execution_count": 3,
   "metadata": {},
   "outputs": [],
   "source": [
    "# generate the list of days defined between start and end day\n",
    "def calendar_test(day, count, date_list = None):\n",
    "    if date_list is None:\n",
    "        date_list = []\n",
    "    if count == 0:\n",
    "        return date_list\n",
    "    count -= 1\n",
    "    day = day + timedelta(days=1)\n",
    "    date = day.isoformat().split('T')\n",
    "    date_list.append(\" \".join(date))\n",
    "    \n",
    "    calendar_test(day,count,date_list)\n",
    "    \n",
    "    return date_list\n",
    "\n",
    "# convert utc time to epoch time\n",
    "def convert_utc_to_epoch(timestamp_string):\n",
    "    '''Use this function to convert utc to epoch'''\n",
    "    timestamp = datetime.strptime(timestamp_string, '%Y-%m-%d %H:%M:%S')\n",
    "    epoch = int(calendar.timegm(timestamp.utctimetuple()))\n",
    "\n",
    "    return epoch\n",
    "\n",
    "# convert epoch time to YYYYMMDDHHMM format (year-month-day-hour-minute)\n",
    "def date_time_convert(item):\n",
    "    \n",
    "    date_time = time.strftime('%Y-%m-%d %H:%M:%S', time.localtime(item)).split(' ')\n",
    "    date = date_time[0].split('-')\n",
    "    time_ = date_time[1].split(':')\n",
    "    date = 10000*int(date[0])+100*int(date[1])+1*int(date[2])\n",
    "    time_ = 100*int(time_[0])+1*int(time_[1])\n",
    "    date_time = date*10000+time_\n",
    "    \n",
    "    return date_time\n",
    "\n",
    "\n",
    "def darksky_api_call(start_day,end_day):\n",
    "    start_day = datetime.strptime(start_day, '%Y-%m-%d')\n",
    "    end_day = datetime.strptime(end_day, '%Y-%m-%d')\n",
    "    total_day = abs((end_day - start_day).days)\n",
    "\n",
    "    day_list = calendar_test(start_day,total_day)\n",
    "\n",
    "    # darksky website\n",
    "    darksky = \"https://api.darksky.net/forecast/\"\n",
    "    # API key\n",
    "    key = \"69fcefff98d6c6a0f9b0ebfec1e6f2cc\"\n",
    "    # Position: Williamstown, MA    \n",
    "    lon_lat = \"/42.719949, -73.207822,\"\n",
    "    # Offset\n",
    "    offset = \"?exclude=minutely,flags\"\n",
    "\n",
    "    # define parameter you want to collect\n",
    "    info_list = ['time','icon','temperature','humidity','pressure','cloudCover','windSpeed','uvIndex','visibility']\n",
    "    info = {para:[] for para in info_list}\n",
    "\n",
    "    # API calling\n",
    "    for day in day_list:\n",
    "    \n",
    "        epoch_time = convert_utc_to_epoch(day)    \n",
    "        link = darksky + key + lon_lat + str(epoch_time) + offset\n",
    "\n",
    "        res = requests.get(link)\n",
    "        data = res.json()\n",
    "    \n",
    "        if 'hourly' not in data:\n",
    "            continue\n",
    "        elif 'data' not in data['hourly']:\n",
    "            continue\n",
    "    \n",
    "        for item in data['hourly']['data']:\n",
    "            epoch = item['time']\n",
    "            date_time = date_time_convert(item['time'])\n",
    "            # parameters collected\n",
    "            for para in info_list:\n",
    "                if para not in item:\n",
    "                    info[para].append(float('nan'))\n",
    "                else:\n",
    "                    info[para].append(item[para])\n",
    "        \n",
    "    file = pd.DataFrame(dict([(k,pd.Series(v)) for k,v in info.items() ]))\n",
    "    \n",
    "    return file"
   ]
  },
  {
   "cell_type": "code",
   "execution_count": 6,
   "metadata": {},
   "outputs": [],
   "source": [
    "# define start and end day\n",
    "start_day = '2020-1-14'\n",
    "end_day = '2020-2-11'\n",
    "\n",
    "file = darksky_api_call(start_day,end_day)\n",
    "\n",
    "# comment out if you want to save the data\n",
    "# export_csv = file.to_csv (\"file_name.csv\", index = True, header=True)"
   ]
  },
  {
   "cell_type": "code",
   "execution_count": 9,
   "metadata": {},
   "outputs": [],
   "source": [
    "# run this code if you want to convert epoch time to YYYYMMDDHHMM format (year-month-day-hour-minute)\n",
    "date = []\n",
    "for i in file['time']:\n",
    "    date.append(date_time_convert(i))\n",
    "    \n",
    "file['date_time'] = date\n",
    "\n",
    "# comment out if you want to save the data\n",
    "# export_csv = file.to_csv (\"file_name.csv\", index = True, header=True)"
   ]
  },
  {
   "cell_type": "code",
   "execution_count": 12,
   "metadata": {},
   "outputs": [],
   "source": [
    "export_csv = file.to_csv (\"weather_data.csv\", index = False, header=True)"
   ]
  },
  {
   "cell_type": "code",
   "execution_count": null,
   "metadata": {},
   "outputs": [],
   "source": []
  }
 ],
 "metadata": {
  "kernelspec": {
   "display_name": "Python 3",
   "language": "python",
   "name": "python3"
  },
  "language_info": {
   "codemirror_mode": {
    "name": "ipython",
    "version": 3
   },
   "file_extension": ".py",
   "mimetype": "text/x-python",
   "name": "python",
   "nbconvert_exporter": "python",
   "pygments_lexer": "ipython3",
   "version": "3.7.4"
  }
 },
 "nbformat": 4,
 "nbformat_minor": 2
}
