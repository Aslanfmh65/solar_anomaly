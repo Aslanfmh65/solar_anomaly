{
 "cells": [
  {
   "cell_type": "code",
   "execution_count": 245,
   "metadata": {},
   "outputs": [],
   "source": [
    "import pandas as pd\n",
    "import numpy as np\n",
    "import seaborn as sns\n",
    "import random\n",
    "import collections\n",
    "import matplotlib.pyplot as plt\n",
    "import helper"
   ]
  },
  {
   "cell_type": "code",
   "execution_count": 246,
   "metadata": {},
   "outputs": [],
   "source": [
    "def partial_shading(data):\n",
    "    \n",
    "    d_data = []\n",
    "    \n",
    "    num_partial_p = np.random.randint(2,6)\n",
    "\n",
    "    percent = []\n",
    "    for i in range(num_partial_p):\n",
    "        if i % 2 == 0:\n",
    "            level = np.random.uniform(0.1,0.5)\n",
    "        else:\n",
    "            level = 1\n",
    "        percent.append(level)\n",
    "        \n",
    "    points = []\n",
    "    for i in range(num_partial_p):\n",
    "        points.append(np.random.randint(0,len(data)))\n",
    "    points.sort()\n",
    "\n",
    "    partial = {point:level for point, level in zip(points,percent)}\n",
    "    \n",
    "    d_data = []\n",
    "    factor = []\n",
    "    level = 1\n",
    "        \n",
    "    for j,j_data in enumerate(data):\n",
    "        \n",
    "        if j in partial:\n",
    "            level = partial[j]            \n",
    "        d_data.append(j_data*level*(1+np.random.normal(0,0.01)))  \n",
    "        factor.append(level)\n",
    "    \n",
    "    return d_data,factor\n",
    "\n",
    "def confusion_matrix_plot(cm,acc,save=False):\n",
    "    \n",
    "    fig = plt.figure(figsize=(8,8))\n",
    "    ax = fig.add_subplot(1,1,1) \n",
    "    sns.set(font_scale=1)\n",
    "    sns.heatmap(cm, annot=True,fmt='g',annot_kws={\"size\": 25},cmap=\"Blues\", square=True, cbar=False)\n",
    "    \n",
    "    title_name = 'Confusion Matrix - Accuracy ' + str(round(acc,2)) + \"%\"\n",
    "    ax.set_title(title_name,fontsize=30)\n",
    "\n",
    "    # labels, title and ticks\n",
    "    ax.set_xlabel('Prediction',fontsize=25)\n",
    "    ax.set_ylabel('Ground Truth',fontsize=25)\n",
    "    ax.xaxis.set_ticklabels(['Normal', 'Open Circuit', 'Object Cover'],fontsize=20)\n",
    "    ax.yaxis.set_ticklabels(['Normal', 'Open Circuit', 'Object Cover'],fontsize=20)\n",
    "\n",
    "    plt.tight_layout()\n",
    "    if save is True:\n",
    "        plt.savefig('synthetic_experiment.jpg', format='jpg', dpi=1000)\n",
    "    plt.show()"
   ]
  },
  {
   "cell_type": "markdown",
   "metadata": {},
   "source": [
    "## Create Synthetic Data"
   ]
  },
  {
   "cell_type": "code",
   "execution_count": 247,
   "metadata": {},
   "outputs": [],
   "source": [
    "class synthetic_data:\n",
    "    def __init__(self,dataset):\n",
    "        self.panel_record = {}\n",
    "        self.defect_record = {}\n",
    "        self.store_df = {}\n",
    "        \n",
    "        self.dataset = dataset\n",
    "        self.solar_tk = dataset[['date','solar-tk']]\n",
    "        self.snow = dataset[['date','snow_depth']]\n",
    "        \n",
    "#         self.dataset = self.dataset[self.dataset['label']=='normal']\n",
    "        \n",
    "        drop_col = [d_col for d_col in self.dataset.columns if d_col[:5] != 'panel' and d_col != 'date']\n",
    "        self.dataset = self.dataset.drop(drop_col,axis=1)\n",
    "        self.panels = [i for i in self.dataset.columns if i != 'date']\n",
    "        \n",
    "    def sample_index(self, data,origin_data):\n",
    "        feature_index = []\n",
    "        while len(feature_index) < len(origin_data):\n",
    "            index = np.random.randint(0,len(data))\n",
    "            if index not in feature_index:\n",
    "                feature_index.append(index)\n",
    "        feature_index.sort()\n",
    "    \n",
    "        return np.array(data)[feature_index]\n",
    "\n",
    "    def leaf_feature(self, data):\n",
    "        leaf_feature = pd.read_csv('leaf_cover.csv')\n",
    "    \n",
    "        one_leaf = leaf_feature[610:900]\n",
    "        one_feature = one_leaf['power_1']/one_leaf['power_2'].values\n",
    "        one_feature = self.sample_index(one_feature,data)\n",
    "\n",
    "        two_leaf = leaf_feature[1570:1903]\n",
    "        two_feature = two_leaf['power_1']/two_leaf['power_2'].values\n",
    "        two_feature = self.sample_index(two_feature,data)\n",
    "\n",
    "        three_leaf = leaf_feature[1964:2242]\n",
    "        three_feature = three_leaf['power_1']/three_leaf['power_2'].values\n",
    "        three_feature = self.sample_index(three_feature,data)\n",
    "\n",
    "        four_leaf = leaf_feature[3006:3280]\n",
    "        four_feature = four_leaf['power_1']/four_leaf['power_2'].values\n",
    "        four_feature = self.sample_index(four_feature,data)\n",
    "\n",
    "        five_leaf = leaf_feature[3344:3655]\n",
    "        five_feature = five_leaf['power_1']/five_leaf['power_2'].values\n",
    "        five_feature = self.sample_index(five_feature,data)\n",
    "    \n",
    "        return one_feature, two_feature, three_feature, four_feature, five_feature\n",
    "        \n",
    "    def dust_cover(self,data):\n",
    "    \n",
    "        d_data = []\n",
    "        levels = []\n",
    "    \n",
    "        one_leaf, two_leaf, three_leaf, four_leaf, five_leaf = self.leaf_feature(data)\n",
    "        level_feature = {1:one_leaf,2:two_leaf,3:three_leaf,4:four_leaf,5:five_leaf}\n",
    "    \n",
    "        leaf_num = np.random.randint(3,6)\n",
    "        level = level_feature[leaf_num]\n",
    "        \n",
    "        data = np.array(data)*level\n",
    "    \n",
    "        return data\n",
    "\n",
    "    def normal_noise_data(self, data):\n",
    "    \n",
    "        d_data = []\n",
    "        for i in data:\n",
    "            d_data.append(i*(1+np.random.normal(0,0.05)))\n",
    "        return d_data\n",
    "\n",
    "    def open_circuit(self, data):\n",
    "    \n",
    "        d_data = []\n",
    "        break_p = np.random.randint(0,0.7*len(data))\n",
    "    \n",
    "        levels = []\n",
    "    \n",
    "        for i, i_data in enumerate(data):\n",
    "            if i < break_p:\n",
    "                levels.append(1)\n",
    "                d_data.append(i_data*(1+np.random.normal(0,0.01)))\n",
    "            else:\n",
    "                d_data.append(1+np.random.normal(0,1))\n",
    "                levels.append(1+np.random.normal(0,0.01))\n",
    "            \n",
    "        return d_data, levels\n",
    "        \n",
    "    def induce_defect(self, dataset, day, d_panel):\n",
    "        # Extract the power output of the defect panel on given day \n",
    "        data = self.dataset[self.dataset['date']==day].drop(['date'],axis=1)[d_panel].values\n",
    "        # Randomly define condition\n",
    "        cond = random.choice(['open','cover','normal'])\n",
    "        # Only use the high correlated and high power data to induce defect\n",
    "        if len(data) < 50 or max(data) < 60:\n",
    "            cond = 'normal'\n",
    "    \n",
    "        # Record the defect panel \n",
    "        if day not in self.panel_record:\n",
    "            self.panel_record[day] = []\n",
    "            \n",
    "        if day not in self.defect_record:\n",
    "            self.defect_record[day] = []\n",
    "            \n",
    "        # Record the panel that been induced by defect    \n",
    "        self.panel_record[day].append(d_panel)\n",
    "        cols = [i for i in dataset.columns if i[:5]=='panel']\n",
    "    \n",
    "        if cond == 'open':\n",
    "            d_data,_ = self.open_circuit(data)\n",
    "            # Record the type of defect \n",
    "            if d_panel not in self.defect_record[day]:\n",
    "                self.defect_record[day] = {col:None for col in cols}\n",
    "            self.defect_record[day][d_panel] = 'open'\n",
    "            \n",
    "        elif cond == 'normal':\n",
    "            d_data = self.normal_noise_data(data)\n",
    "            if d_panel not in self.defect_record[day]:\n",
    "                self.defect_record[day] = {col:None for col in cols}\n",
    "            self.defect_record[day][d_panel] = 'normal'\n",
    "            \n",
    "        else:\n",
    "            d_data = self.dust_cover(data)\n",
    "            if d_panel not in self.defect_record[day]:\n",
    "                self.defect_record[day] = {col:None for col in cols}\n",
    "            self.defect_record[day][d_panel] = 'cover'\n",
    "\n",
    "            \n",
    "        return d_data\n",
    "            \n",
    "    def generate_data(self):\n",
    "        \n",
    "        day_list = list(set(self.dataset['date']))\n",
    "        \n",
    "        while day_list:\n",
    "    \n",
    "            # Pop random day\n",
    "            random.shuffle(day_list)\n",
    "            day = day_list.pop()\n",
    "            \n",
    "            # Randomly induce multiple defects on panels\n",
    "#             num_defect = np.random.randint(1,4)\n",
    "            num_defect = 1\n",
    "            d_panel_dict = {}\n",
    "            \n",
    "            for _ in range(num_defect):\n",
    "    \n",
    "                # Pop random panel\n",
    "                random.shuffle(self.panels)\n",
    "                d_panel = self.panels.pop()\n",
    "            \n",
    "                # Induce defect on panel\n",
    "                d_data = self.induce_defect(self.dataset,day,d_panel)\n",
    "            \n",
    "                if d_data is not None:\n",
    "                    d_panel_dict[d_panel] = d_data\n",
    "                \n",
    "            # Reassemble the normal panel and defect panel back to dataframe\n",
    "            df = self.dataset[self.dataset['date']==day].drop(['date'],axis=1)\n",
    "            for d_panel in d_panel_dict:\n",
    "                df[d_panel] = d_panel_dict[d_panel]\n",
    "            self.store_df[day] = df\n",
    "            \n",
    "            self.panels = [i for i in self.dataset.columns if i != 'date']\n",
    "             \n",
    "    def generate_feature(self):\n",
    "        self.generate_data()\n",
    "        \n",
    "        day_list = [i for i in self.store_df]\n",
    "        df_feature = pd.DataFrame()\n",
    "        bad_day = []\n",
    "        day_col = []\n",
    "        max_power = []\n",
    "        s_depth = []\n",
    "        count = 0\n",
    "\n",
    "        for day in day_list:\n",
    "            # Extract daily data\n",
    "            data = self.store_df[day]\n",
    "            \n",
    "            if len(data) < 50:\n",
    "                continue\n",
    "            \n",
    "            panels = list(data.columns)\n",
    "            \n",
    "            # Generate 40 feature \n",
    "            feature_index = []\n",
    "            while len(feature_index) < 40:\n",
    "                index = np.random.randint(0,len(data))\n",
    "                if index not in feature_index:\n",
    "                    feature_index.append(index)\n",
    "            feature_index.sort()\n",
    "                \n",
    "            n_panels = [i for i in data.columns if i not in self.panel_record[day]]\n",
    "            gt_power = self.solar_tk[self.solar_tk['date']==day]['solar-tk'].values\n",
    "            \n",
    "            for d_panel in self.panel_record[day]:\n",
    "                d_power = data[d_panel].values\n",
    "#                 gt_power = data[n_panels].mean(axis=1).values\n",
    "                \n",
    "#                 features = list(d_power[feature_index]/gt_power[feature_index])\n",
    "                features = list((gt_power[feature_index]-d_power[feature_index])/gt_power[feature_index]+0.01)\n",
    "                defect = self.defect_record[day][d_panel]\n",
    "                day_col.append(day)\n",
    "                max_power.append(data.values.max())\n",
    "    \n",
    "                if defect == 'normal':\n",
    "                    features.append(1)\n",
    "                elif defect == 'open':\n",
    "                    features.append(2)\n",
    "                else:\n",
    "                    features.append(3)\n",
    "    \n",
    "                df_feature = df_feature.append(pd.Series(features), ignore_index=True)\n",
    "                s_depth.append(np.mean(self.snow[self.snow['date']==day]['snow_depth']))\n",
    "\n",
    "        df_feature['snow_depth'] = s_depth\n",
    "        df_feature['max_power'] = max_power\n",
    "        df_feature['date'] = day_col\n",
    "    \n",
    "        df_feature = df_feature.replace([np.inf, -np.inf], np.nan).dropna()\n",
    "        \n",
    "        return df_feature"
   ]
  },
  {
   "cell_type": "markdown",
   "metadata": {},
   "source": [
    "## Create Synthetic Data"
   ]
  },
  {
   "cell_type": "code",
   "execution_count": 248,
   "metadata": {},
   "outputs": [],
   "source": [
    "# Load the raw data\n",
    "dataset = pd.read_csv('east_data_clean_solartk.csv')\n",
    "# Only use strong correlated data\n",
    "dataset = dataset[dataset['correlation']=='strong']\n",
    "# Initialize object\n",
    "syn = synthetic_data(dataset)\n",
    "\n",
    "# syn.generate_data()\n",
    "\n",
    "# Create synthetic data and obtain features\n",
    "df_feature = syn.generate_feature()"
   ]
  },
  {
   "cell_type": "code",
   "execution_count": 251,
   "metadata": {},
   "outputs": [],
   "source": [
    "export_csv = df_feature.to_csv (\"panel_level_feature.csv\", index = False, header=True) "
   ]
  },
  {
   "cell_type": "code",
   "execution_count": 252,
   "metadata": {},
   "outputs": [],
   "source": [
    "df_feature = pd.read_csv('panel_level_feature.csv')"
   ]
  },
  {
   "cell_type": "markdown",
   "metadata": {},
   "source": [
    "## Separate normal and defect panels by Solar-TK "
   ]
  },
  {
   "cell_type": "code",
   "execution_count": 38,
   "metadata": {},
   "outputs": [
    {
     "ename": "NameError",
     "evalue": "name 'syn' is not defined",
     "output_type": "error",
     "traceback": [
      "\u001b[0;31m---------------------------------------------------------------------------\u001b[0m",
      "\u001b[0;31mNameError\u001b[0m                                 Traceback (most recent call last)",
      "\u001b[0;32m<ipython-input-38-302975c461f2>\u001b[0m in \u001b[0;36m<module>\u001b[0;34m\u001b[0m\n\u001b[1;32m      1\u001b[0m \u001b[0;31m# Using Solar-TK results to separate normal and defect panels\u001b[0m\u001b[0;34m\u001b[0m\u001b[0;34m\u001b[0m\u001b[0;34m\u001b[0m\u001b[0m\n\u001b[1;32m      2\u001b[0m \u001b[0;34m\u001b[0m\u001b[0m\n\u001b[0;32m----> 3\u001b[0;31m \u001b[0mday_list\u001b[0m \u001b[0;34m=\u001b[0m \u001b[0;34m[\u001b[0m\u001b[0mi\u001b[0m \u001b[0;32mfor\u001b[0m \u001b[0mi\u001b[0m \u001b[0;32min\u001b[0m \u001b[0msyn\u001b[0m\u001b[0;34m.\u001b[0m\u001b[0mdefect_record\u001b[0m\u001b[0;34m]\u001b[0m\u001b[0;34m\u001b[0m\u001b[0;34m\u001b[0m\u001b[0m\n\u001b[0m\u001b[1;32m      4\u001b[0m \u001b[0mbad_day\u001b[0m \u001b[0;34m=\u001b[0m \u001b[0;34m[\u001b[0m\u001b[0;34m]\u001b[0m\u001b[0;34m\u001b[0m\u001b[0;34m\u001b[0m\u001b[0m\n\u001b[1;32m      5\u001b[0m \u001b[0;34m\u001b[0m\u001b[0m\n",
      "\u001b[0;31mNameError\u001b[0m: name 'syn' is not defined"
     ]
    }
   ],
   "source": [
    "# Using Solar-TK results to separate normal and defect panels\n",
    "\n",
    "day_list = [i for i in syn.defect_record]\n",
    "bad_day = []\n",
    "\n",
    "# Loop through all days\n",
    "for day in day_list:\n",
    "\n",
    "    # Get panel info and its corresponding defect record\n",
    "    panel_defect = syn.defect_record[day]\n",
    "    \n",
    "    # Create empty list to store defect and normal panels\n",
    "    d_panels = []\n",
    "    n_panels = []\n",
    "    \n",
    "    # Extract synthetic data on that day\n",
    "    data = syn.store_df[day]\n",
    "    \n",
    "    # Obtain solar-tk results on that day\n",
    "    solar_tk = dataset[dataset['date']==day]['solar-tk']\n",
    "    \n",
    "    # threshold\n",
    "    thresh = 1000\n",
    "    \n",
    "    # Calculate the absolute sum of diff between panel output with solar-tk \n",
    "    for col in data.columns:\n",
    "        col_data = data[col]\n",
    "        diff = abs(sum(col_data.values-solar_tk.values))\n",
    "        if diff > thresh:\n",
    "            # store panel as defect if greater than threshold\n",
    "            d_panels.append(col)\n",
    "        else:\n",
    "            # store panel as normal if lower than threshold\n",
    "            n_panels.append(col)\n",
    "            \n",
    "    # Vadilate if panels have been separated correctly by referring to label\n",
    "    for panel,defect in panel_defect.items():\n",
    "        if (defect != None) and (defect != 'normal'):\n",
    "            if panel not in d_panels:\n",
    "                bad_day.append(day)\n",
    "        else:\n",
    "            if panel not in n_panels:\n",
    "                bad_day.append(day)\n",
    "            \n",
    "total_d_panel = sum([len(syn.panel_record[i]) for i in syn.panel_record])\n",
    "acc = (total_d_panel-len(bad_day))/(total_d_panel)*100\n",
    "print(\"Solar-TK is able to separate normal and defect panels with accuracy of {}%\".format(round(acc,2)))"
   ]
  },
  {
   "cell_type": "markdown",
   "metadata": {},
   "source": [
    "## Generate Features "
   ]
  },
  {
   "cell_type": "code",
   "execution_count": 180,
   "metadata": {},
   "outputs": [],
   "source": [
    "# export_csv = df_feature.to_csv (\"synthetic_feature_s_m.csv\", index = False, header=True) \n",
    "# export_csv = df_feature.to_csv (\"synthetic_feature.csv\", index = False, header=True) "
   ]
  },
  {
   "cell_type": "markdown",
   "metadata": {},
   "source": [
    "## Classify the Defects "
   ]
  },
  {
   "cell_type": "code",
   "execution_count": 253,
   "metadata": {},
   "outputs": [
    {
     "data": {
      "text/plain": [
       "[98.78048780487805, 93.82716049382715, 96.20253164556962]"
      ]
     },
     "execution_count": 253,
     "metadata": {},
     "output_type": "execute_result"
    }
   ],
   "source": [
    "import helper\n",
    "model = helper.modeling()\n",
    "scores, cm, rf_model,X_test,y_test,test_date = model.random_forest_class(df_feature.dropna())\n",
    "scores"
   ]
  },
  {
   "cell_type": "code",
   "execution_count": 254,
   "metadata": {},
   "outputs": [
    {
     "data": {
      "text/plain": [
       "array([[28,  0,  0],\n",
       "       [ 0, 23,  1],\n",
       "       [ 0,  0, 30]])"
      ]
     },
     "execution_count": 254,
     "metadata": {},
     "output_type": "execute_result"
    }
   ],
   "source": [
    "cm[0]"
   ]
  },
  {
   "cell_type": "code",
   "execution_count": 310,
   "metadata": {},
   "outputs": [],
   "source": [
    "def confusion_plot(cm,acc):\n",
    "    fig = plt.figure(figsize=(6,6))\n",
    "    ax = fig.add_subplot(1,1,1) \n",
    "    sns.set(font_scale=1)\n",
    "    sns.heatmap(cm, annot=True,fmt='g',annot_kws={\"size\": 40},cmap=\"Blues\", square=True, cbar=False)\n",
    "\n",
    "    # labels, title and ticks\n",
    "    ax.set_xlabel('Prediction',fontsize=20,fontweight='bold')\n",
    "    ax.set_ylabel('Ground Truth',fontsize=20,fontweight='bold')\n",
    "    title_name = 'Accuracy ' + str(round(acc,2)) + \"%\"\n",
    "    ax.set_title(title_name,fontsize=30,fontweight='bold') \n",
    "    ax.xaxis.set_ticklabels(['Normal', 'Open Circuit','Occlusion','Snow'],fontsize=18,fontweight='bold',ha=\"center\",va=\"center\",y=0)\n",
    "    ax.yaxis.set_ticklabels(['Normal', 'Open Circuit','Occlusion','Snow'],fontsize=18,fontweight='bold',ha=\"center\",va=\"center\",x=0)\n",
    "\n",
    "    plt.tight_layout()\n",
    "\n",
    "    plt.savefig('system_level_detection.pdf', format='pdf', dpi=1000)\n",
    "    plt.show()"
   ]
  },
  {
   "cell_type": "code",
   "execution_count": 305,
   "metadata": {},
   "outputs": [],
   "source": [
    "cm = np.array([[63,0,0,0],[0,47,0,0],[0,0,43,0],[2,3,1,52]])\n",
    "score = 97.2"
   ]
  },
  {
   "cell_type": "code",
   "execution_count": null,
   "metadata": {},
   "outputs": [],
   "source": [
    "cm = np.array([[28,0,0],[0,23,1],[0,0,30]])\n",
    "score = 98.78"
   ]
  },
  {
   "cell_type": "code",
   "execution_count": 315,
   "metadata": {},
   "outputs": [],
   "source": [
    "cm = np.array([[39,2],[0,189]])\n",
    "score = 99.13"
   ]
  },
  {
   "cell_type": "code",
   "execution_count": 314,
   "metadata": {},
   "outputs": [
    {
     "data": {
      "text/plain": [
       "0.991304347826087"
      ]
     },
     "execution_count": 314,
     "metadata": {},
     "output_type": "execute_result"
    }
   ],
   "source": [
    "1-2/(39+2+189)"
   ]
  },
  {
   "cell_type": "code",
   "execution_count": 316,
   "metadata": {},
   "outputs": [
    {
     "data": {
      "image/png": "[encoded data removed]",
      "text/plain": [
       "<Figure size 432x432 with 1 Axes>"
      ]
     },
     "metadata": {},
     "output_type": "display_data"
    }
   ],
   "source": [
    "confusion_plot(cm,score)"
   ]
  },
  {
   "cell_type": "code",
   "execution_count": 236,
   "metadata": {},
   "outputs": [
    {
     "name": "stdout",
     "output_type": "stream",
     "text": [
      "12/6/18\n",
      "5/1/19\n",
      "4/15/18\n",
      "12/23/18\n",
      "7/17/19\n",
      "7/17/19\n",
      "4/3/18\n",
      "1/2/19\n",
      "12/22/19\n",
      "1/6/20\n",
      "1/6/20\n",
      "12/27/18\n",
      "1/10/19\n"
     ]
    }
   ],
   "source": [
    "pred = rf_model.predict(X_test)\n",
    "\n",
    "for i in range(len(pred)):\n",
    "    if pred[i] != y_test[i]:\n",
    "        day = test_date[i]\n",
    "        print(day)"
   ]
  },
  {
   "cell_type": "code",
   "execution_count": null,
   "metadata": {},
   "outputs": [],
   "source": []
  }
 ],
 "metadata": {
  "kernelspec": {
   "display_name": "Python 3",
   "language": "python",
   "name": "python3"
  },
  "language_info": {
   "codemirror_mode": {
    "name": "ipython",
    "version": 3
   },
   "file_extension": ".py",
   "mimetype": "text/x-python",
   "name": "python",
   "nbconvert_exporter": "python",
   "pygments_lexer": "ipython3",
   "version": "3.7.4"
  }
 },
 "nbformat": 4,
 "nbformat_minor": 2
}
