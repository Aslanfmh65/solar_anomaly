{
 "cells": [
  {
   "cell_type": "code",
   "execution_count": 1,
   "metadata": {},
   "outputs": [
    {
     "name": "stderr",
     "output_type": "stream",
     "text": [
      "Using TensorFlow backend.\n"
     ]
    }
   ],
   "source": [
    "import pandas as pd\n",
    "import numpy as np\n",
    "import random\n",
    "import matplotlib.pyplot as plt\n",
    "import helper_function"
   ]
  },
  {
   "cell_type": "code",
   "execution_count": 2,
   "metadata": {},
   "outputs": [],
   "source": [
    "def dust_cover(data):\n",
    "    \n",
    "    d_data = []\n",
    "    for i in data:\n",
    "        d_data.append(i*(0.9+np.random.normal(0,0.02)))\n",
    "    return d_data\n",
    "\n",
    "def normal_noise_data(data):\n",
    "    \n",
    "    d_data = []\n",
    "    for i in data:\n",
    "        d_data.append(i*(1++np.random.normal(0,0.2)))\n",
    "    return d_data\n",
    "\n",
    "def open_circuit(data):\n",
    "    \n",
    "    d_data = []\n",
    "    break_p = np.random.randint(0.2*len(data),0.9*len(data))\n",
    "    \n",
    "    for i, i_data in enumerate(data):\n",
    "        if i < break_p:\n",
    "            d_data.append(i_data*(1+np.random.normal(0,0.02)))\n",
    "        else:\n",
    "            d_data.append(np.random.normal(0,3))\n",
    "            \n",
    "    return d_data\n",
    "\n",
    "def partial_shading(data):\n",
    "    \n",
    "    d_data = []\n",
    "    \n",
    "    num_partial_p = np.random.randint(2,8)\n",
    "\n",
    "    percent = []\n",
    "    for i in range(num_partial_p):\n",
    "        if i % 2 == 0:\n",
    "            level = np.random.uniform(0.4,1)\n",
    "        else:\n",
    "            level = 1\n",
    "        percent.append(level)\n",
    "        \n",
    "    points = []\n",
    "    for i in range(num_partial_p):\n",
    "        points.append(np.random.randint(0,len(data)))\n",
    "    points.sort()\n",
    "\n",
    "    partial = {point:level for point, level in zip(points,percent)}\n",
    "    \n",
    "    d_data = []\n",
    "    level = 1\n",
    "        \n",
    "    for j,j_data in enumerate(data):\n",
    "        \n",
    "        if j in partial:\n",
    "            level = partial[j]            \n",
    "        d_data.append(j_data*level*(1+np.random.normal(0,0.02)))           \n",
    "    \n",
    "    return d_data\n",
    "        \n",
    "def visualize(data,d_data=None,title_name=None,save=False):\n",
    "    plt.plot(data)\n",
    "    if d_data != None:\n",
    "        plt.plot(d_data)    \n",
    "    plt.title(\"Simulated Output Under \" + title_name + \" Condition\")\n",
    "    plt.xlabel(\"6am to 6pm\")\n",
    "    plt.ylabel(\"Power(W)\")\n",
    "    \n",
    "    plt.tight_layout()\n",
    "    if save is True:\n",
    "        plt.savefig(title_name+'.jpg', format='jpg', dpi=1000)\n",
    "    plt.show()"
   ]
  },
  {
   "cell_type": "code",
   "execution_count": 4,
   "metadata": {},
   "outputs": [],
   "source": [
    "dataset = pd.read_csv('28563614.csv', index_col=0)\n",
    "dataset = dataset.values\n",
    "data = dataset[:,10]\n",
    "d_data = normal_noise_data(data)\n",
    "# visualize(data,d_data,\"Partial Shading\",True)"
   ]
  },
  {
   "cell_type": "code",
   "execution_count": 30,
   "metadata": {},
   "outputs": [],
   "source": [
    "dataset = pd.read_csv('28563614.csv', index_col=0)\n",
    "dataset = dataset.values\n",
    "\n",
    "clean_data = []\n",
    "s_size = 50\n",
    "\n",
    "for i in range(len(dataset[0])):\n",
    "    data = dataset[:,i]\n",
    "    data = [j for j in data if not np.isnan(j)]\n",
    "    index = [i for i in range(len(data))]\n",
    "    \n",
    "    if len(data) < s_size:\n",
    "        continue\n",
    "    else:\n",
    "        while True:\n",
    "            samples = random.sample(index,s_size)\n",
    "            if len(samples) == s_size:\n",
    "                samples.sort()\n",
    "                break\n",
    "    data = [data[k] for k in samples]\n",
    "    d_data = open_circuit(data)\n",
    "    \n",
    "    diff = []\n",
    "    \n",
    "    for g in range(s_size):\n",
    "        if data[g] == 0:\n",
    "            data[g] = 1\n",
    "        diff.append((data[g]-d_data[g])/data[g])\n",
    "    clean_data.append(diff)\n",
    "clean_data = pd.DataFrame(clean_data)    \n",
    "export_csv = clean_data.to_csv (\"open_circuit.csv\", index = True, header=True)"
   ]
  },
  {
   "cell_type": "code",
   "execution_count": 6,
   "metadata": {},
   "outputs": [],
   "source": [
    "import os\n",
    "import pywt\n",
    "import keras\n",
    "import itertools\n",
    "import numpy as np\n",
    "import pandas as pd\n",
    "import seaborn as sns\n",
    "import numpy.fft as fft\n",
    "from scipy import signal\n",
    "from sklearn.svm import SVC \n",
    "from scipy.stats import skew\n",
    "from scipy.fftpack import dct\n",
    "from keras.layers import LSTM\n",
    "from keras.layers import Dense\n",
    "from scipy.stats import entropy\n",
    "import matplotlib.pyplot as plt\n",
    "from scipy.stats import kurtosis\n",
    "from keras.utils import np_utils\n",
    "from keras.layers import Flatten\n",
    "from keras.layers import Dropout\n",
    "from keras.optimizers import SGD\n",
    "from keras.models import Sequential\n",
    "from keras.layers import Activation\n",
    "from scipy.signal import find_peaks\n",
    "from keras.utils import to_categorical\n",
    "from mpl_toolkits.mplot3d import Axes3D\n",
    "from sklearn.naive_bayes import GaussianNB\n",
    "from sklearn.metrics import accuracy_score\n",
    "from sklearn.metrics import confusion_matrix \n",
    "from keras.layers.convolutional import Conv1D\n",
    "from sklearn.preprocessing import MinMaxScaler\n",
    "from sklearn.preprocessing import LabelEncoder\n",
    "from keras.layers import GlobalAveragePooling1D\n",
    "from sklearn.tree import DecisionTreeClassifier\n",
    "from sklearn.neighbors import KNeighborsClassifier\n",
    "from sklearn.ensemble import RandomForestClassifier\n",
    "from keras.layers.convolutional import MaxPooling1D\n",
    "from sklearn.model_selection import train_test_split \n",
    "from sklearn.model_selection import StratifiedKFold\n",
    "\n",
    "\n",
    "import warnings\n",
    "warnings.filterwarnings('ignore')"
   ]
  },
  {
   "cell_type": "code",
   "execution_count": 42,
   "metadata": {},
   "outputs": [],
   "source": [
    "def create_dataset(data):\n",
    "        \n",
    "    data = data.values\n",
    "    dataX, dataY = [],[]\n",
    "    for i in range(len(data)):\n",
    "        dataX.append(data[i][:-1])\n",
    "        dataY.append(int(data[i][-1])) \n",
    "            \n",
    "    return np.array(dataX), np.array(dataY)\n",
    "\n",
    "def random_forest(dataset):\n",
    "        \n",
    "    X, Y = create_dataset(dataset)\n",
    "    cvscores = []\n",
    "    cm = []\n",
    "    kfold = StratifiedKFold(n_splits=3, shuffle=True)\n",
    "        \n",
    "    for train_index, test_index in kfold.split(X, Y):\n",
    "            \n",
    "        X_train = X[train_index]\n",
    "        y_train = Y[train_index]\n",
    "        X_test = X[test_index]\n",
    "        y_test = Y[test_index]\n",
    "        \n",
    "        rf_model = RandomForestClassifier(max_depth=10, random_state=1).fit(X_train, y_train)\n",
    "        rf_prediction = rf_model.predict(X_test)\n",
    "        cvscores.append(accuracy_score(y_test, rf_prediction)*100)\n",
    "        cm.append(confusion_matrix(y_test, rf_prediction))\n",
    "        \n",
    "    return [cvscores, cm]\n",
    "\n",
    "def confusion_matrix_plot(cm,acc,save=False):\n",
    "    \n",
    "    fig = plt.figure(figsize=(10,10))\n",
    "    ax = fig.add_subplot(1,1,1) \n",
    "    sns.set(font_scale=1)\n",
    "    sns.heatmap(cm, annot=True,fmt='g',annot_kws={\"size\": 15},cmap=\"Blues\", square=True, cbar=False)\n",
    "\n",
    "    # labels, title and ticks\n",
    "    ax.set_xlabel('Prediction',fontsize=18)\n",
    "    ax.set_ylabel('Ground Truth',fontsize=18)\n",
    "    title_name = 'Confusion Matrix - Accuracy ' + str(round(acc,2)) + \"%\"\n",
    "    ax.set_title(title_name,fontsize=20) \n",
    "    ax.xaxis.set_ticklabels(['Partial Shading', 'Object Covering', 'Open Circuit','Normal Condition'],rotation=45)\n",
    "    ax.yaxis.set_ticklabels(['Partial Shading', 'Object Covering', 'Open Circuit','Normal Condition'],rotation=45)\n",
    "\n",
    "    plt.tight_layout()\n",
    "    if save is True:\n",
    "        plt.savefig(title_name+'.jpg', format='jpg', dpi=1000)\n",
    "    plt.show()"
   ]
  },
  {
   "cell_type": "code",
   "execution_count": 43,
   "metadata": {},
   "outputs": [],
   "source": [
    "dataset = pd.read_csv('defect_data.csv', index_col=0)\n",
    "score,cm = random_forest(dataset)"
   ]
  },
  {
   "cell_type": "code",
   "execution_count": 44,
   "metadata": {},
   "outputs": [
    {
     "data": {
      "text/plain": [
       "[94.71153846153845, 95.67307692307693, 92.15686274509804]"
      ]
     },
     "execution_count": 44,
     "metadata": {},
     "output_type": "execute_result"
    }
   ],
   "source": [
    "score"
   ]
  },
  {
   "cell_type": "code",
   "execution_count": 46,
   "metadata": {},
   "outputs": [
    {
     "data": {
      "image/png": "[encoded data removed]",
      "text/plain": [
       "<Figure size 720x720 with 1 Axes>"
      ]
     },
     "metadata": {},
     "output_type": "display_data"
    }
   ],
   "source": [
    "confusion_matrix_plot(cm[1],score[1],save=True)"
   ]
  },
  {
   "cell_type": "code",
   "execution_count": null,
   "metadata": {},
   "outputs": [],
   "source": []
  }
 ],
 "metadata": {
  "kernelspec": {
   "display_name": "Python 3",
   "language": "python",
   "name": "python3"
  },
  "language_info": {
   "codemirror_mode": {
    "name": "ipython",
    "version": 3
   },
   "file_extension": ".py",
   "mimetype": "text/x-python",
   "name": "python",
   "nbconvert_exporter": "python",
   "pygments_lexer": "ipython3",
   "version": "3.7.4"
  }
 },
 "nbformat": 4,
 "nbformat_minor": 2
}
